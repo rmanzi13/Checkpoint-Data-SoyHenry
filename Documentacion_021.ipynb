{
  "nbformat": 4,
  "nbformat_minor": 0,
  "metadata": {
    "colab": {
      "provenance": [],
      "authorship_tag": "ABX9TyMZloyrXdNsojvwjk+8psem",
      "include_colab_link": true
    },
    "kernelspec": {
      "name": "python3",
      "display_name": "Python 3"
    },
    "language_info": {
      "name": "python"
    }
  },
  "cells": [
    {
      "cell_type": "markdown",
      "metadata": {
        "id": "view-in-github",
        "colab_type": "text"
      },
      "source": [
        "<a href=\"https://colab.research.google.com/github/rmanzi13/Checkpoint-Data-SoyHenry/blob/main/Documentacion_021.ipynb\" target=\"_parent\"><img src=\"https://colab.research.google.com/assets/colab-badge.svg\" alt=\"Open In Colab\"/></a>"
      ]
    },
    {
      "cell_type": "markdown",
      "source": [
        "## **Proyecto: 021_Plataforma de contenido en realidad aumentada para la estimulación cognitiva del Alzheimer**\n",
        "### **Descripción del Proyecto**\n",
        "El proyecto \"021_Plataforma de contenido en realidad aumentada para la estimulación cognitiva del Alzheimer\" tiene como objetivo crear una plataforma de contenido en realidad aumentada que ayude en la estimulación cognitiva de pacientes con Alzheimer, proporcionando experiencias interactivas y personalizadas.\n",
        "\n",
        "### **Modelo de Machine Learning**\n",
        "El modelo de machine learning utilizado en este proyecto se enfoca en generar recomendaciones de contenido para los usuarios basadas en el contenido actual, las preferencias del usuario y la popularidad del contenido. A continuación se detallan las funciones clave del modelo:\n",
        "\n",
        "**1. procesar_datos(df):**\n",
        "\n",
        " * Esta función procesa los datos del DataFrame proporcionado.\n",
        " * Combina la descripción del contenido con la información de progreso cognitivo del usuario.\n",
        " * Elimina filas con valores nulos en la columna 'texto'.\n",
        " * Inicializa y ajusta un vectorizador TF-IDF para convertir el texto en una matriz de características TF-IDF.\n",
        " * Calcula la similitud de coseno entre las filas de la matriz TF-IDF.\n",
        " * Devuelve la matriz de similitud de coseno.\n",
        "\n",
        "**2. recomendacion_basada_en_contenido(df,   contenido_actual, num_recomendaciones=5):**\n",
        "\n",
        " * Calcula la similitud entre el contenido actual y todos los demás elementos de contenido.\n",
        " * Obtiene los índices de los elementos más similares (excluyendo el contenido actual).\n",
        " * Devuelve las descripciones de los elementos recomendados.\n",
        "\n",
        "**3. recomendar(df, matriz_similitud, user_id, num_recomendaciones=5):**\n",
        "\n",
        " * Encuentra recomendaciones basadas en contenido para un usuario específico.\n",
        " * Ordena el contenido por similitud descendente y popularidad.\n",
        " * Devuelve las recomendaciones para el usuario especificado.\n",
        "\n",
        "**4. recomendacion_popularidad(df, num_recomendaciones=5):**\n",
        "\n",
        " * Ordena el DataFrame por una métrica de popularidad (por ejemplo, número de likes o visualizaciones).\n",
        " * Selecciona los primeros elementos como recomendaciones basadas en la popularidad.\n",
        "\n",
        "**Uso del Modelo**\n",
        "\n",
        "Para utilizar el modelo en el proyecto, sigue estos pasos:\n",
        "\n",
        "**1. Procesamiento de Datos:**\n",
        "\n",
        " * Utiliza la función procesar_datos(df) para procesar los datos y obtener la matriz de similitud de coseno entre el contenido.\n",
        "\n",
        "**2. Generación de Recomendaciones:**\n",
        "\n",
        "* Utiliza las funciones de recomendación específicas (recomendacion_basada_en_contenido, recomendar, recomendacion_popularidad) para generar recomendaciones de contenido para los usuarios.\n",
        "* Puedes especificar el número de recomendaciones deseado mediante el parámetro num_recomendaciones.\n",
        "\n",
        "**3. Ejemplo de Uso:**\n",
        "\n",
        "* Se proporcionan ejemplos de uso para cada función de recomendación."
      ],
      "metadata": {
        "id": "cpcKdeyDNvo3"
      }
    }
  ]
}