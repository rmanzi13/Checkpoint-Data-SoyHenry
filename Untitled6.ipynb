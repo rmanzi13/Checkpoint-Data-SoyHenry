{
  "nbformat": 4,
  "nbformat_minor": 0,
  "metadata": {
    "colab": {
      "provenance": [],
      "authorship_tag": "ABX9TyOaoPTODcBg2J7Lyeqx/mzf",
      "include_colab_link": true
    },
    "kernelspec": {
      "name": "python3",
      "display_name": "Python 3"
    },
    "language_info": {
      "name": "python"
    }
  },
  "cells": [
    {
      "cell_type": "markdown",
      "metadata": {
        "id": "view-in-github",
        "colab_type": "text"
      },
      "source": [
        "<a href=\"https://colab.research.google.com/github/rmanzi13/Checkpoint-Data-SoyHenry/blob/main/Untitled6.ipynb\" target=\"_parent\"><img src=\"https://colab.research.google.com/assets/colab-badge.svg\" alt=\"Open In Colab\"/></a>"
      ]
    },
    {
      "cell_type": "code",
      "source": [
        "original_list = {\n",
        "    \"identificationList\": [\n",
        "        # North America\n",
        "        \"EIN\",  # United States\n",
        "        \"BN\",  # Canada\n",
        "        \"RFC\",  # Mexico\n",
        "        \"RIF\",  # Venezuela\n",
        "        \"SSN\",  # Guatemala\n",
        "        \"RTN\",  # Honduras\n",
        "        \"RUT\",  # El Salvador\n",
        "        \"RTN\",  # Nicaragua\n",
        "        \"RUC\",  # Costa Rica\n",
        "        \"RUC\",  # Panama\n",
        "        \"RUC\",  # Cuba\n",
        "        \"RUC\",  # Dominican Republic\n",
        "        \"RNC\",  # Jamaica\n",
        "        \"TIN\",  # Barbados\n",
        "        \"NPN\",  # Puerto Rico\n",
        "        # South America\n",
        "        \"RUC\",  # Ecuador\n",
        "        \"RUT\",  # Chile\n",
        "        \"CUIT\",  # Argentina\n",
        "        \"NIT\",  # Colombia\n",
        "        \"RUC\",  # Peru\n",
        "    ]\n",
        "}\n"
      ],
      "metadata": {
        "id": "eODqrlRhhg4G"
      },
      "execution_count": 6,
      "outputs": []
    },
    {
      "cell_type": "code",
      "source": [
        "new_elements = [\n",
        "    {\"code\": \"Mont\", \"country\": \"Montenegro\"},\n",
        "    {\"code\": \"Mayotte\", \"country\": \"Mayotte\"},\n",
        "    {\"code\": \"Islas Heard y Mcdonald\", \"country\": \"Heard Island and McDonald Islands\"},\n",
        "    {\"code\": \"Mongolia\", \"country\": \"Mongolia\"},\n",
        "    {\"code\": \"México\", \"country\": \"Mexico\"},\n",
        "    {\"code\": \"Micronesia, Estados Federados de\", \"country\": \"Micronesia, Federated States of\"},\n",
        "    {\"code\": \"Islas Falkland (Malvin)\", \"country\": \"Falkland Islands (Malvinas)\"}\n",
        "]"
      ],
      "metadata": {
        "id": "y-yN2G3el44T"
      },
      "execution_count": 7,
      "outputs": []
    },
    {
      "cell_type": "code",
      "source": [
        "\n",
        "# Verificar duplicados y agregar nuevos elementos\n",
        "seen = set()\n",
        "final_list = []\n",
        "for item in original_list[\"identificationList\"] + new_elements:\n",
        "    if isinstance(item, dict):\n",
        "        # Convertir diccionario a tupla antes de verificar duplicados\n",
        "        item_tuple = tuple(item.items())\n",
        "        if item_tuple not in seen:\n",
        "            seen.add(item_tuple)\n",
        "            final_list.append(item)\n",
        "    else:\n",
        "        if item not in seen:\n",
        "            seen.add(item)\n",
        "            final_list.append(item)"
      ],
      "metadata": {
        "id": "SjadVuqimSsJ"
      },
      "execution_count": 9,
      "outputs": []
    },
    {
      "cell_type": "code",
      "source": [
        "# Actualizar la lista original\n",
        "original_list[\"identificationList\"] = final_list\n",
        "\n",
        "# Imprimir la lista final\n",
        "print(original_list)"
      ],
      "metadata": {
        "colab": {
          "base_uri": "https://localhost:8080/"
        },
        "id": "xcla5AuumY3X",
        "outputId": "bce22a90-0eb3-4c18-c5cd-46ce08b8ff72"
      },
      "execution_count": 10,
      "outputs": [
        {
          "output_type": "stream",
          "name": "stdout",
          "text": [
            "{'identificationList': ['EIN', 'BN', 'RFC', 'RIF', 'SSN', 'RTN', 'RUT', 'RUC', 'RNC', 'TIN', 'NPN', 'CUIT', 'NIT', {'code': 'Mont', 'country': 'Montenegro'}, {'code': 'Mayotte', 'country': 'Mayotte'}, {'code': 'Islas Heard y Mcdonald', 'country': 'Heard Island and McDonald Islands'}, {'code': 'Mongolia', 'country': 'Mongolia'}, {'code': 'México', 'country': 'Mexico'}, {'code': 'Micronesia, Estados Federados de', 'country': 'Micronesia, Federated States of'}, {'code': 'Islas Falkland (Malvin)', 'country': 'Falkland Islands (Malvinas)'}]}\n"
          ]
        }
      ]
    },
    {
      "cell_type": "code",
      "source": [
        "{\n",
        "  \"identificationList\": [\n",
        "    // América del Norte\n",
        "    \"EIN\", // United States\n",
        "    \"BN\", // Canada\n",
        "    \"RFC\", // Mexico\n",
        "    \"RIF\", // Venezuela\n",
        "    \"SSN\", // Guatemala\n",
        "    \"RTN\", // Honduras\n",
        "    \"RUT\", // El Salvador\n",
        "    \"RTN\", // Nicaragua\n",
        "    \"RUC\", // Costa Rica\n",
        "    \"RUC\", // Panama\n",
        "    \"RUC\", // Cuba\n",
        "    \"RUC\", // Dominican Republic\n",
        "    \"RNC\", // Jamaica\n",
        "    \"TIN\", // Barbados\n",
        "    \"NPN\", // Puerto Rico\n",
        "    // América del Sur\n",
        "    \"RUC\", // Ecuador\n",
        "    \"RUT\", // Chile\n",
        "    \"CUIT\", // Argentina\n",
        "    \"NIT\", // Colombia\n",
        "    \"RUC\", // Peru\n",
        "    \"Islas Falkland (Malvin)\", // Falkland Islands (Malvinas)\n",
        "    // Europa\n",
        "    \"USt-IdNr.\", // Germany\n",
        "    \"SIRET\", // France\n",
        "    \"BRN\", // United Kingdom\n",
        "    \"partita IVA\", // Italy\n",
        "    \"NIE\", // Spain\n",
        "    \"CIF\", // Spain\n",
        "    \"NIF\", // Portugal\n",
        "    \"PVM\", // Finland\n",
        "    \"VAT Reg. No.\", // Sweden\n",
        "    \"CVR\", // Denmark\n",
        "    \"VAT Reg. No.\", // Iceland\n",
        "    \"BIC\", // Ireland\n",
        "    \"Mont\", // Montenegro\n",
        "    // Asia\n",
        "    \"ABN\", // Australia\n",
        "    \"NZBN\", // New Zealand\n",
        "    \"GSTIN\", // Singapore\n",
        "    \"VAT ID\", // South Africa\n",
        "    \"CRN\", // Ireland\n",
        "    \"法人番号\", // Japan\n",
        "    \"TCIN\", // Taiwan\n",
        "    \"CIN\", // India\n",
        "    \"CRN\", // Nepal\n",
        "    \"BIC\", // Bangladesh\n",
        "    \"Mongolia\", // Mongolia\n",
        "    \"NIPPON SHŌGYŌHŌ\", // Japan\n",
        "    // África\n",
        "    \"VAT ID\", // South Africa\n",
        "    \"VAT ID\", // Nigeria\n",
        "    \"VAT ID\", // Uganda\n",
        "    \"Mayotte\", // Mayotte\n",
        "    // Oceanía\n",
        "    \"ABN\", // Australia\n",
        "    \"NZBN\", // New Zealand\n",
        "    \"Islas Heard y Mcdonald\", // Heard Island and McDonald Islands\n",
        "    \"Micronesia, Estados Federados de\", // Micronesia, Federated States of\n",
        "    // América Central\n",
        "    \"NIT\", // Costa Rica\n",
        "    \"RUC\", // Panama\n",
        "    \"RUC\", // Guatemala\n",
        "    \"RTN\", // Honduras\n",
        "    \"RUT\", // El Salvador\n",
        "    \"RTN\", // Nicaragua\n",
        "\n",
        "  ]\n",
        "}"
      ],
      "metadata": {
        "id": "msdrAJBWnZLA"
      },
      "execution_count": null,
      "outputs": []
    }
  ]
}